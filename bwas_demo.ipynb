{
 "cells": [
  {
   "cell_type": "code",
   "execution_count": 1,
   "metadata": {},
   "outputs": [],
   "source": [
    "import os \n",
    "import pandas as pd\n",
    "from nilearn import datasets, plotting\n",
    "from bwas_wrapper.wrapper import wrapper"
   ]
  },
  {
   "cell_type": "code",
   "execution_count": 2,
   "metadata": {},
   "outputs": [],
   "source": [
    "from bwas_wrapper.BWAS import BWAS_cpu"
   ]
  },
  {
   "cell_type": "code",
   "execution_count": 3,
   "metadata": {},
   "outputs": [
    {
     "data": {
      "text/plain": [
       "'/home/pbellec/git/bwas_wrapper/bwas_wrapper/BWAS'"
      ]
     },
     "execution_count": 3,
     "metadata": {},
     "output_type": "execute_result"
    }
   ],
   "source": [
    "os.path.dirname(BWAS_cpu.__file__)"
   ]
  },
  {
   "cell_type": "markdown",
   "metadata": {},
   "source": [
    "Let's start by downloading a few subjects from the ADHD200 dataset."
   ]
  },
  {
   "cell_type": "code",
   "execution_count": 4,
   "metadata": {},
   "outputs": [
    {
     "name": "stderr",
     "output_type": "stream",
     "text": [
      "/home/pbellec/env/simonsvip/lib/python3.7/site-packages/nilearn/datasets/func.py:516: VisibleDeprecationWarning: Reading unicode strings without specifying the encoding argument is deprecated. Set the encoding, use None for the system default.\n",
      "  dtype=None)\n"
     ]
    }
   ],
   "source": [
    "n_subjects = 30\n",
    "adhd_dataset = datasets.fetch_adhd(n_subjects)\n",
    "epi_filename = adhd_dataset.func\n",
    "# Also load a probabilistic grey matter segmentation\n",
    "mni = datasets.fetch_icbm152_2009()"
   ]
  },
  {
   "cell_type": "markdown",
   "metadata": {},
   "source": [
    "Let's load the phenotypic information in a pandas DataFrame and check what variables there are:"
   ]
  },
  {
   "cell_type": "code",
   "execution_count": 5,
   "metadata": {},
   "outputs": [
    {
     "data": {
      "text/plain": [
       "Index(['f0', 'Subject', 'RestScan', 'MeanFD', 'NumFD_greater_than_020',\n",
       "       'rootMeanSquareFD', 'FDquartiletop14thFD', 'PercentFD_greater_than_020',\n",
       "       'MeanDVARS', 'MeanFD_Jenkinson', 'site', 'sibling_id', 'data_set',\n",
       "       'age', 'sex', 'handedness', 'full_2_iq', 'full_4_iq', 'viq', 'piq',\n",
       "       'iq_measure', 'tdc', 'adhd', 'adhd_inattentive', 'adhd_combined',\n",
       "       'adhd_subthreshold', 'diagnosis_using_cdis', 'notes', 'sess_1_anat_2',\n",
       "       'oppositional', 'cog_inatt', 'hyperac', 'anxious_shy', 'perfectionism',\n",
       "       'social_problems', 'psychosomatic', 'conn_adhd', 'restless_impulsive',\n",
       "       'emot_lability', 'conn_gi_tot', 'dsm_iv_inatt', 'dsm_iv_h_i',\n",
       "       'dsm_iv_tot', 'study', 'sess_1_rest_1', 'sess_1_rest_1_eyes',\n",
       "       'sess_1_rest_2', 'sess_1_rest_2_eyes', 'sess_1_rest_3',\n",
       "       'sess_1_rest_3_eyes', 'sess_1_rest_4', 'sess_1_rest_4_eyes',\n",
       "       'sess_1_rest_5', 'sess_1_rest_5_eyes', 'sess_1_rest_6',\n",
       "       'sess_1_rest_6_eyes', 'sess_1_anat_1', 'sess_1_which_anat',\n",
       "       'sess_2_rest_1', 'sess_2_rest_1_eyes', 'sess_2_rest_2',\n",
       "       'sess_2_rest_2_eyes', 'sess_2_anat_1', 'defacing_ok', 'defacing_notes'],\n",
       "      dtype='object')"
      ]
     },
     "execution_count": 5,
     "metadata": {},
     "output_type": "execute_result"
    }
   ],
   "source": [
    "data = pd.DataFrame(adhd_dataset.phenotypic)\n",
    "data.columns"
   ]
  },
  {
   "cell_type": "markdown",
   "metadata": {},
   "source": [
    "We need to select the variables to include in our analyis, and also have a column with the subject IDs:"
   ]
  },
  {
   "cell_type": "code",
   "execution_count": 6,
   "metadata": {},
   "outputs": [],
   "source": [
    "model = data[['Subject', 'adhd', 'MeanFD', 'age']]"
   ]
  },
  {
   "cell_type": "markdown",
   "metadata": {},
   "source": [
    "let's add sex as well, but this variable is categorical. We need to convert it into a dummy variable first."
   ]
  },
  {
   "cell_type": "code",
   "execution_count": 7,
   "metadata": {},
   "outputs": [],
   "source": [
    "sex = pd.get_dummies(data['sex'], prefix='sex', drop_first=True) # drop_first is applied because the model will include an intercept\n",
    "model = pd.concat([model, sex], axis=1)"
   ]
  },
  {
   "cell_type": "markdown",
   "metadata": {},
   "source": [
    "we can select subjects too. For example, let's filter subjects with excessive motion."
   ]
  },
  {
   "cell_type": "code",
   "execution_count": 8,
   "metadata": {},
   "outputs": [],
   "source": [
    "model = model[model['MeanFD']<0.1]"
   ]
  },
  {
   "cell_type": "markdown",
   "metadata": {},
   "source": [
    "Let's add an intercept to the regression model:"
   ]
  },
  {
   "cell_type": "code",
   "execution_count": 9,
   "metadata": {},
   "outputs": [],
   "source": [
    "model.insert(0, column='Intercept', value=1)"
   ]
  },
  {
   "cell_type": "markdown",
   "metadata": {},
   "source": [
    "Finally, we need to add a dictionary with the file of the preprocessed data for each subject. The IDs of the subject need to correspond to the subject IDs in the data frame. "
   ]
  },
  {
   "cell_type": "code",
   "execution_count": 10,
   "metadata": {},
   "outputs": [
    {
     "data": {
      "text/plain": [
       "{10042: '/home/pbellec/nilearn_data/adhd/data/0010042/0010042_rest_tshift_RPI_voreg_mni.nii.gz',\n",
       " 10064: '/home/pbellec/nilearn_data/adhd/data/0010064/0010064_rest_tshift_RPI_voreg_mni.nii.gz',\n",
       " 10128: '/home/pbellec/nilearn_data/adhd/data/0010128/0010128_rest_tshift_RPI_voreg_mni.nii.gz',\n",
       " 21019: '/home/pbellec/nilearn_data/adhd/data/0021019/0021019_rest_tshift_RPI_voreg_mni.nii.gz',\n",
       " 23008: '/home/pbellec/nilearn_data/adhd/data/0023008/0023008_rest_tshift_RPI_voreg_mni.nii.gz',\n",
       " 23012: '/home/pbellec/nilearn_data/adhd/data/0023012/0023012_rest_tshift_RPI_voreg_mni.nii.gz',\n",
       " 27018: '/home/pbellec/nilearn_data/adhd/data/0027018/0027018_rest_tshift_RPI_voreg_mni.nii.gz',\n",
       " 27034: '/home/pbellec/nilearn_data/adhd/data/0027034/0027034_rest_tshift_RPI_voreg_mni.nii.gz',\n",
       " 27037: '/home/pbellec/nilearn_data/adhd/data/0027037/0027037_rest_tshift_RPI_voreg_mni.nii.gz',\n",
       " 1019436: '/home/pbellec/nilearn_data/adhd/data/1019436/1019436_rest_tshift_RPI_voreg_mni.nii.gz',\n",
       " 1206380: '/home/pbellec/nilearn_data/adhd/data/1206380/1206380_rest_tshift_RPI_voreg_mni.nii.gz',\n",
       " 1418396: '/home/pbellec/nilearn_data/adhd/data/1418396/1418396_rest_tshift_RPI_voreg_mni.nii.gz',\n",
       " 1517058: '/home/pbellec/nilearn_data/adhd/data/1517058/1517058_rest_tshift_RPI_voreg_mni.nii.gz',\n",
       " 1552181: '/home/pbellec/nilearn_data/adhd/data/1552181/1552181_rest_tshift_RPI_voreg_mni.nii.gz',\n",
       " 1562298: '/home/pbellec/nilearn_data/adhd/data/1562298/1562298_rest_tshift_RPI_voreg_mni.nii.gz',\n",
       " 2014113: '/home/pbellec/nilearn_data/adhd/data/2014113/2014113_rest_tshift_RPI_voreg_mni.nii.gz',\n",
       " 2497695: '/home/pbellec/nilearn_data/adhd/data/2497695/2497695_rest_tshift_RPI_voreg_mni.nii.gz',\n",
       " 2950754: '/home/pbellec/nilearn_data/adhd/data/2950754/2950754_rest_tshift_RPI_voreg_mni.nii.gz',\n",
       " 3007585: '/home/pbellec/nilearn_data/adhd/data/3007585/3007585_rest_tshift_RPI_voreg_mni.nii.gz',\n",
       " 3154996: '/home/pbellec/nilearn_data/adhd/data/3154996/3154996_rest_tshift_RPI_voreg_mni.nii.gz',\n",
       " 3205761: '/home/pbellec/nilearn_data/adhd/data/3205761/3205761_rest_tshift_RPI_voreg_mni.nii.gz',\n",
       " 3520880: '/home/pbellec/nilearn_data/adhd/data/3520880/3520880_rest_tshift_RPI_voreg_mni.nii.gz',\n",
       " 3624598: '/home/pbellec/nilearn_data/adhd/data/3624598/3624598_rest_tshift_RPI_voreg_mni.nii.gz',\n",
       " 3884955: '/home/pbellec/nilearn_data/adhd/data/3884955/3884955_rest_tshift_RPI_voreg_mni.nii.gz',\n",
       " 3902469: '/home/pbellec/nilearn_data/adhd/data/3902469/3902469_rest_tshift_RPI_voreg_mni.nii.gz',\n",
       " 3994098: '/home/pbellec/nilearn_data/adhd/data/3994098/3994098_rest_tshift_RPI_voreg_mni.nii.gz',\n",
       " 4016887: '/home/pbellec/nilearn_data/adhd/data/4016887/4016887_rest_tshift_RPI_voreg_mni.nii.gz'}"
      ]
     },
     "execution_count": 10,
     "metadata": {},
     "output_type": "execute_result"
    }
   ],
   "source": [
    "# By checking `adhd_dataset.func`, we can easily pick up the naming patterns of the functional files\n",
    "# '/home/pbellec/nilearn_data/adhd/data/0010042/0010042_rest_tshift_RPI_voreg_mni.nii.gz'\n",
    "path_data = os.path.join( os.getenv('HOME'), 'nilearn_data', 'adhd', 'data')\n",
    "files = {}\n",
    "for subject in model['Subject']:\n",
    "    subject_prefix = f'{subject :7}'.replace(' ','0') \n",
    "    file = f'{subject_prefix}_rest_tshift_RPI_voreg_mni.nii.gz'\n",
    "    files[subject] = os.path.join(path_data, f'{subject_prefix}', file)\n",
    "files"
   ]
  },
  {
   "cell_type": "code",
   "execution_count": 11,
   "metadata": {},
   "outputs": [
    {
     "name": "stdout",
     "output_type": "stream",
     "text": [
      "Creating sym links in the following temporary folder: /tmp/tmpho60ll94\n",
      "linking /home/pbellec/nilearn_data/adhd/data/0010042/0010042_rest_tshift_RPI_voreg_mni.nii.gz with /tmp/tmpho60ll94/000000000000.nii.gz\n",
      "linking /home/pbellec/nilearn_data/adhd/data/0010064/0010064_rest_tshift_RPI_voreg_mni.nii.gz with /tmp/tmpho60ll94/000000000001.nii.gz\n",
      "linking /home/pbellec/nilearn_data/adhd/data/0010128/0010128_rest_tshift_RPI_voreg_mni.nii.gz with /tmp/tmpho60ll94/000000000002.nii.gz\n",
      "linking /home/pbellec/nilearn_data/adhd/data/0021019/0021019_rest_tshift_RPI_voreg_mni.nii.gz with /tmp/tmpho60ll94/000000000003.nii.gz\n",
      "linking /home/pbellec/nilearn_data/adhd/data/0023008/0023008_rest_tshift_RPI_voreg_mni.nii.gz with /tmp/tmpho60ll94/000000000004.nii.gz\n",
      "linking /home/pbellec/nilearn_data/adhd/data/0023012/0023012_rest_tshift_RPI_voreg_mni.nii.gz with /tmp/tmpho60ll94/000000000005.nii.gz\n",
      "linking /home/pbellec/nilearn_data/adhd/data/0027018/0027018_rest_tshift_RPI_voreg_mni.nii.gz with /tmp/tmpho60ll94/000000000006.nii.gz\n",
      "linking /home/pbellec/nilearn_data/adhd/data/0027034/0027034_rest_tshift_RPI_voreg_mni.nii.gz with /tmp/tmpho60ll94/000000000007.nii.gz\n",
      "linking /home/pbellec/nilearn_data/adhd/data/0027037/0027037_rest_tshift_RPI_voreg_mni.nii.gz with /tmp/tmpho60ll94/000000000008.nii.gz\n",
      "linking /home/pbellec/nilearn_data/adhd/data/1019436/1019436_rest_tshift_RPI_voreg_mni.nii.gz with /tmp/tmpho60ll94/000000000009.nii.gz\n",
      "linking /home/pbellec/nilearn_data/adhd/data/1206380/1206380_rest_tshift_RPI_voreg_mni.nii.gz with /tmp/tmpho60ll94/000000000010.nii.gz\n",
      "linking /home/pbellec/nilearn_data/adhd/data/1418396/1418396_rest_tshift_RPI_voreg_mni.nii.gz with /tmp/tmpho60ll94/000000000011.nii.gz\n",
      "linking /home/pbellec/nilearn_data/adhd/data/1517058/1517058_rest_tshift_RPI_voreg_mni.nii.gz with /tmp/tmpho60ll94/000000000012.nii.gz\n",
      "linking /home/pbellec/nilearn_data/adhd/data/1552181/1552181_rest_tshift_RPI_voreg_mni.nii.gz with /tmp/tmpho60ll94/000000000013.nii.gz\n",
      "linking /home/pbellec/nilearn_data/adhd/data/1562298/1562298_rest_tshift_RPI_voreg_mni.nii.gz with /tmp/tmpho60ll94/000000000014.nii.gz\n",
      "linking /home/pbellec/nilearn_data/adhd/data/2014113/2014113_rest_tshift_RPI_voreg_mni.nii.gz with /tmp/tmpho60ll94/000000000015.nii.gz\n",
      "linking /home/pbellec/nilearn_data/adhd/data/2497695/2497695_rest_tshift_RPI_voreg_mni.nii.gz with /tmp/tmpho60ll94/000000000016.nii.gz\n",
      "linking /home/pbellec/nilearn_data/adhd/data/2950754/2950754_rest_tshift_RPI_voreg_mni.nii.gz with /tmp/tmpho60ll94/000000000017.nii.gz\n",
      "linking /home/pbellec/nilearn_data/adhd/data/3007585/3007585_rest_tshift_RPI_voreg_mni.nii.gz with /tmp/tmpho60ll94/000000000018.nii.gz\n",
      "linking /home/pbellec/nilearn_data/adhd/data/3154996/3154996_rest_tshift_RPI_voreg_mni.nii.gz with /tmp/tmpho60ll94/000000000019.nii.gz\n",
      "linking /home/pbellec/nilearn_data/adhd/data/3205761/3205761_rest_tshift_RPI_voreg_mni.nii.gz with /tmp/tmpho60ll94/000000000020.nii.gz\n",
      "linking /home/pbellec/nilearn_data/adhd/data/3520880/3520880_rest_tshift_RPI_voreg_mni.nii.gz with /tmp/tmpho60ll94/000000000021.nii.gz\n",
      "linking /home/pbellec/nilearn_data/adhd/data/3624598/3624598_rest_tshift_RPI_voreg_mni.nii.gz with /tmp/tmpho60ll94/000000000022.nii.gz\n",
      "linking /home/pbellec/nilearn_data/adhd/data/3884955/3884955_rest_tshift_RPI_voreg_mni.nii.gz with /tmp/tmpho60ll94/000000000023.nii.gz\n",
      "linking /home/pbellec/nilearn_data/adhd/data/3902469/3902469_rest_tshift_RPI_voreg_mni.nii.gz with /tmp/tmpho60ll94/000000000024.nii.gz\n",
      "linking /home/pbellec/nilearn_data/adhd/data/3994098/3994098_rest_tshift_RPI_voreg_mni.nii.gz with /tmp/tmpho60ll94/000000000025.nii.gz\n",
      "linking /home/pbellec/nilearn_data/adhd/data/4016887/4016887_rest_tshift_RPI_voreg_mni.nii.gz with /tmp/tmpho60ll94/000000000026.nii.gz\n",
      "Result directory /tmp/test/ created.\n",
      "Creating files related to the model in the following temporary folder: /tmp/tmp0q1mgqqw\n",
      "Generating a brain mask for the analysis in /tmp/tmp0q1mgqqw/mask.nii.gz\n",
      "Running BWAS\n",
      "Number of Voxels in mask = 88709\n",
      "Shape of the Mask = (61, 73, 61)\n",
      "Number of cores = 8\n",
      "Reading image /tmp/tmpho60ll94/000000000000.nii.gz...\n",
      "Done...\n",
      "(176, 88709)\n",
      "Results will be saved to /tmp/test/\n",
      "Number of voxels = 88709\n",
      "Number of Subjects = 27\n",
      "Number of Variable of Interests = 1\n",
      "Number of Covariates (including a column of ones) = 6\n",
      "Loading rsfMRI data of subject batch... 1/7...\n",
      "Total number of subjects in this batch = 4...\n",
      "Number of cores = 8\n"
     ]
    },
    {
     "name": "stderr",
     "output_type": "stream",
     "text": [
      "/home/pbellec/git/bwas_wrapper/bwas_wrapper/BWAS/BWAS_cpu.py:231: RuntimeWarning: invalid value encountered in true_divide\n",
      "  image1=(img2d - img2d.mean(axis=0)) / img2d.std(axis=0)\n"
     ]
    },
    {
     "name": "stdout",
     "output_type": "stream",
     "text": [
      "Loading rsfMRI data of subject batch... 2/7...\n",
      "Total number of subjects in this batch = 4...\n",
      "Number of cores = 8\n",
      "Loading rsfMRI data of subject batch... 3/7...\n",
      "Total number of subjects in this batch = 4...\n",
      "Number of cores = 8\n",
      "Loading rsfMRI data of subject batch... 4/7...\n",
      "Total number of subjects in this batch = 4...\n",
      "Number of cores = 8\n",
      "Loading rsfMRI data of subject batch... 5/7...\n",
      "Total number of subjects in this batch = 4...\n",
      "Number of cores = 8\n",
      "Loading rsfMRI data of subject batch... 6/7...\n",
      "Total number of subjects in this batch = 4...\n",
      "Number of cores = 8\n",
      "Loading rsfMRI data of subject batch... 7/7...\n",
      "Total number of subjects in this batch = 3...\n",
      "Number of cores = 8\n",
      "Loading rsfMRI data of subject batch... 1/7...\n",
      "Total number of subjects in this batch = 4...\n",
      "Number of cores = 8\n",
      "Loading rsfMRI data of subject batch... 2/7...\n",
      "Total number of subjects in this batch = 4...\n",
      "Number of cores = 8\n",
      "Loading rsfMRI data of subject batch... 3/7...\n",
      "Total number of subjects in this batch = 4...\n",
      "Number of cores = 8\n",
      "Loading rsfMRI data of subject batch... 4/7...\n",
      "Total number of subjects in this batch = 4...\n",
      "Number of cores = 8\n",
      "Loading rsfMRI data of subject batch... 5/7...\n",
      "Total number of subjects in this batch = 4...\n",
      "Number of cores = 8\n",
      "Loading rsfMRI data of subject batch... 6/7...\n",
      "Total number of subjects in this batch = 4...\n",
      "Number of cores = 8\n",
      "Loading rsfMRI data of subject batch... 7/7...\n",
      "Total number of subjects in this batch = 3...\n",
      "Number of cores = 8\n"
     ]
    },
    {
     "ename": "TerminatedWorkerError",
     "evalue": "A worker process managed by the executor was unexpectedly terminated. This could be caused by a segmentation fault while calling the function or by an excessive memory usage causing the Operating System to kill the worker. The exit codes of the workers are {SIGKILL(-9)}",
     "output_type": "error",
     "traceback": [
      "\u001b[0;31m---------------------------------------------------------------------------\u001b[0m",
      "\u001b[0;31mTerminatedWorkerError\u001b[0m                     Traceback (most recent call last)",
      "\u001b[0;32m<ipython-input-11-67b73bb056f1>\u001b[0m in \u001b[0;36m<module>\u001b[0;34m\u001b[0m\n\u001b[0;32m----> 1\u001b[0;31m \u001b[0mwrapper\u001b[0m\u001b[0;34m(\u001b[0m\u001b[0mmodel\u001b[0m\u001b[0;34m,\u001b[0m \u001b[0mfiles\u001b[0m\u001b[0;34m,\u001b[0m \u001b[0mresult_dir\u001b[0m\u001b[0;34m=\u001b[0m\u001b[0;34m'/tmp/test/'\u001b[0m\u001b[0;34m,\u001b[0m \u001b[0msubject_id\u001b[0m\u001b[0;34m=\u001b[0m\u001b[0;34m\"Subject\"\u001b[0m\u001b[0;34m,\u001b[0m \u001b[0minterest\u001b[0m\u001b[0;34m=\u001b[0m\u001b[0;34m\"adhd\"\u001b[0m\u001b[0;34m,\u001b[0m \u001b[0mncore\u001b[0m\u001b[0;34m=\u001b[0m\u001b[0;36m2\u001b[0m\u001b[0;34m)\u001b[0m\u001b[0;34m\u001b[0m\u001b[0;34m\u001b[0m\u001b[0m\n\u001b[0m",
      "\u001b[0;32m~/git/bwas_wrapper/bwas_wrapper/wrapper.py\u001b[0m in \u001b[0;36mwrapper\u001b[0;34m(model, files, result_dir, subject_id, interest, delete_tmp, ncore, memory_limit_per_core, CDT)\u001b[0m\n\u001b[1;32m    111\u001b[0m         \u001b[0mCDT\u001b[0m\u001b[0;34m=\u001b[0m\u001b[0mCDT\u001b[0m\u001b[0;34m,\u001b[0m\u001b[0;34m\u001b[0m\u001b[0;34m\u001b[0m\u001b[0m\n\u001b[1;32m    112\u001b[0m         \u001b[0mmemory_limit_per_core\u001b[0m\u001b[0;34m=\u001b[0m\u001b[0mmemory_limit_per_core\u001b[0m\u001b[0;34m,\u001b[0m\u001b[0;34m\u001b[0m\u001b[0;34m\u001b[0m\u001b[0m\n\u001b[0;32m--> 113\u001b[0;31m         \u001b[0mncore\u001b[0m\u001b[0;34m=\u001b[0m\u001b[0mncore\u001b[0m\u001b[0;34m,\u001b[0m\u001b[0;34m\u001b[0m\u001b[0;34m\u001b[0m\u001b[0m\n\u001b[0m\u001b[1;32m    114\u001b[0m     )\n\u001b[1;32m    115\u001b[0m \u001b[0;34m\u001b[0m\u001b[0m\n",
      "\u001b[0;32m~/git/bwas_wrapper/bwas_wrapper/BWAS/BWAS_cpu.py\u001b[0m in \u001b[0;36mBWAS_run_full_analysis\u001b[0;34m(result_dir, image_dir, mask_file, toolbox_path, targets_file, cov_file, CDT, memory_limit_per_core, ncore)\u001b[0m\n\u001b[1;32m   1272\u001b[0m     \u001b[0mnum_cores\u001b[0m \u001b[0;34m=\u001b[0m \u001b[0mmultiprocessing\u001b[0m\u001b[0;34m.\u001b[0m\u001b[0mcpu_count\u001b[0m\u001b[0;34m(\u001b[0m\u001b[0;34m)\u001b[0m\u001b[0;34m\u001b[0m\u001b[0;34m\u001b[0m\u001b[0m\n\u001b[1;32m   1273\u001b[0m     Parallel(n_jobs=min(num_cores-2,options['ncore']))(delayed(\n\u001b[0;32m-> 1274\u001b[0;31m             BWAS_analysis_result)(folderdir[j],mask_file,CDT,fwhm,options) for j in range(0,targets.shape[1]))\n\u001b[0m\u001b[1;32m   1275\u001b[0m \u001b[0;34m\u001b[0m\u001b[0m\n\u001b[1;32m   1276\u001b[0m     \u001b[0;31m#BWAS_analysis_result(folderdir,mask_file,CDT,fwhm,options)\u001b[0m\u001b[0;34m\u001b[0m\u001b[0;34m\u001b[0m\u001b[0;34m\u001b[0m\u001b[0m\n",
      "\u001b[0;32m~/env/simonsvip/lib/python3.7/site-packages/joblib/parallel.py\u001b[0m in \u001b[0;36m__call__\u001b[0;34m(self, iterable)\u001b[0m\n\u001b[1;32m   1015\u001b[0m \u001b[0;34m\u001b[0m\u001b[0m\n\u001b[1;32m   1016\u001b[0m             \u001b[0;32mwith\u001b[0m \u001b[0mself\u001b[0m\u001b[0;34m.\u001b[0m\u001b[0m_backend\u001b[0m\u001b[0;34m.\u001b[0m\u001b[0mretrieval_context\u001b[0m\u001b[0;34m(\u001b[0m\u001b[0;34m)\u001b[0m\u001b[0;34m:\u001b[0m\u001b[0;34m\u001b[0m\u001b[0;34m\u001b[0m\u001b[0m\n\u001b[0;32m-> 1017\u001b[0;31m                 \u001b[0mself\u001b[0m\u001b[0;34m.\u001b[0m\u001b[0mretrieve\u001b[0m\u001b[0;34m(\u001b[0m\u001b[0;34m)\u001b[0m\u001b[0;34m\u001b[0m\u001b[0;34m\u001b[0m\u001b[0m\n\u001b[0m\u001b[1;32m   1018\u001b[0m             \u001b[0;31m# Make sure that we get a last message telling us we are done\u001b[0m\u001b[0;34m\u001b[0m\u001b[0;34m\u001b[0m\u001b[0;34m\u001b[0m\u001b[0m\n\u001b[1;32m   1019\u001b[0m             \u001b[0melapsed_time\u001b[0m \u001b[0;34m=\u001b[0m \u001b[0mtime\u001b[0m\u001b[0;34m.\u001b[0m\u001b[0mtime\u001b[0m\u001b[0;34m(\u001b[0m\u001b[0;34m)\u001b[0m \u001b[0;34m-\u001b[0m \u001b[0mself\u001b[0m\u001b[0;34m.\u001b[0m\u001b[0m_start_time\u001b[0m\u001b[0;34m\u001b[0m\u001b[0;34m\u001b[0m\u001b[0m\n",
      "\u001b[0;32m~/env/simonsvip/lib/python3.7/site-packages/joblib/parallel.py\u001b[0m in \u001b[0;36mretrieve\u001b[0;34m(self)\u001b[0m\n\u001b[1;32m    907\u001b[0m             \u001b[0;32mtry\u001b[0m\u001b[0;34m:\u001b[0m\u001b[0;34m\u001b[0m\u001b[0;34m\u001b[0m\u001b[0m\n\u001b[1;32m    908\u001b[0m                 \u001b[0;32mif\u001b[0m \u001b[0mgetattr\u001b[0m\u001b[0;34m(\u001b[0m\u001b[0mself\u001b[0m\u001b[0;34m.\u001b[0m\u001b[0m_backend\u001b[0m\u001b[0;34m,\u001b[0m \u001b[0;34m'supports_timeout'\u001b[0m\u001b[0;34m,\u001b[0m \u001b[0;32mFalse\u001b[0m\u001b[0;34m)\u001b[0m\u001b[0;34m:\u001b[0m\u001b[0;34m\u001b[0m\u001b[0;34m\u001b[0m\u001b[0m\n\u001b[0;32m--> 909\u001b[0;31m                     \u001b[0mself\u001b[0m\u001b[0;34m.\u001b[0m\u001b[0m_output\u001b[0m\u001b[0;34m.\u001b[0m\u001b[0mextend\u001b[0m\u001b[0;34m(\u001b[0m\u001b[0mjob\u001b[0m\u001b[0;34m.\u001b[0m\u001b[0mget\u001b[0m\u001b[0;34m(\u001b[0m\u001b[0mtimeout\u001b[0m\u001b[0;34m=\u001b[0m\u001b[0mself\u001b[0m\u001b[0;34m.\u001b[0m\u001b[0mtimeout\u001b[0m\u001b[0;34m)\u001b[0m\u001b[0;34m)\u001b[0m\u001b[0;34m\u001b[0m\u001b[0;34m\u001b[0m\u001b[0m\n\u001b[0m\u001b[1;32m    910\u001b[0m                 \u001b[0;32melse\u001b[0m\u001b[0;34m:\u001b[0m\u001b[0;34m\u001b[0m\u001b[0;34m\u001b[0m\u001b[0m\n\u001b[1;32m    911\u001b[0m                     \u001b[0mself\u001b[0m\u001b[0;34m.\u001b[0m\u001b[0m_output\u001b[0m\u001b[0;34m.\u001b[0m\u001b[0mextend\u001b[0m\u001b[0;34m(\u001b[0m\u001b[0mjob\u001b[0m\u001b[0;34m.\u001b[0m\u001b[0mget\u001b[0m\u001b[0;34m(\u001b[0m\u001b[0;34m)\u001b[0m\u001b[0;34m)\u001b[0m\u001b[0;34m\u001b[0m\u001b[0;34m\u001b[0m\u001b[0m\n",
      "\u001b[0;32m~/env/simonsvip/lib/python3.7/site-packages/joblib/_parallel_backends.py\u001b[0m in \u001b[0;36mwrap_future_result\u001b[0;34m(future, timeout)\u001b[0m\n\u001b[1;32m    560\u001b[0m         AsyncResults.get from multiprocessing.\"\"\"\n\u001b[1;32m    561\u001b[0m         \u001b[0;32mtry\u001b[0m\u001b[0;34m:\u001b[0m\u001b[0;34m\u001b[0m\u001b[0;34m\u001b[0m\u001b[0m\n\u001b[0;32m--> 562\u001b[0;31m             \u001b[0;32mreturn\u001b[0m \u001b[0mfuture\u001b[0m\u001b[0;34m.\u001b[0m\u001b[0mresult\u001b[0m\u001b[0;34m(\u001b[0m\u001b[0mtimeout\u001b[0m\u001b[0;34m=\u001b[0m\u001b[0mtimeout\u001b[0m\u001b[0;34m)\u001b[0m\u001b[0;34m\u001b[0m\u001b[0;34m\u001b[0m\u001b[0m\n\u001b[0m\u001b[1;32m    563\u001b[0m         \u001b[0;32mexcept\u001b[0m \u001b[0mLokyTimeoutError\u001b[0m\u001b[0;34m:\u001b[0m\u001b[0;34m\u001b[0m\u001b[0;34m\u001b[0m\u001b[0m\n\u001b[1;32m    564\u001b[0m             \u001b[0;32mraise\u001b[0m \u001b[0mTimeoutError\u001b[0m\u001b[0;34m(\u001b[0m\u001b[0;34m)\u001b[0m\u001b[0;34m\u001b[0m\u001b[0;34m\u001b[0m\u001b[0m\n",
      "\u001b[0;32m/usr/lib/python3.7/concurrent/futures/_base.py\u001b[0m in \u001b[0;36mresult\u001b[0;34m(self, timeout)\u001b[0m\n\u001b[1;32m    433\u001b[0m                 \u001b[0;32mraise\u001b[0m \u001b[0mCancelledError\u001b[0m\u001b[0;34m(\u001b[0m\u001b[0;34m)\u001b[0m\u001b[0;34m\u001b[0m\u001b[0;34m\u001b[0m\u001b[0m\n\u001b[1;32m    434\u001b[0m             \u001b[0;32melif\u001b[0m \u001b[0mself\u001b[0m\u001b[0;34m.\u001b[0m\u001b[0m_state\u001b[0m \u001b[0;34m==\u001b[0m \u001b[0mFINISHED\u001b[0m\u001b[0;34m:\u001b[0m\u001b[0;34m\u001b[0m\u001b[0;34m\u001b[0m\u001b[0m\n\u001b[0;32m--> 435\u001b[0;31m                 \u001b[0;32mreturn\u001b[0m \u001b[0mself\u001b[0m\u001b[0;34m.\u001b[0m\u001b[0m__get_result\u001b[0m\u001b[0;34m(\u001b[0m\u001b[0;34m)\u001b[0m\u001b[0;34m\u001b[0m\u001b[0;34m\u001b[0m\u001b[0m\n\u001b[0m\u001b[1;32m    436\u001b[0m             \u001b[0;32melse\u001b[0m\u001b[0;34m:\u001b[0m\u001b[0;34m\u001b[0m\u001b[0;34m\u001b[0m\u001b[0m\n\u001b[1;32m    437\u001b[0m                 \u001b[0;32mraise\u001b[0m \u001b[0mTimeoutError\u001b[0m\u001b[0;34m(\u001b[0m\u001b[0;34m)\u001b[0m\u001b[0;34m\u001b[0m\u001b[0;34m\u001b[0m\u001b[0m\n",
      "\u001b[0;32m/usr/lib/python3.7/concurrent/futures/_base.py\u001b[0m in \u001b[0;36m__get_result\u001b[0;34m(self)\u001b[0m\n\u001b[1;32m    382\u001b[0m     \u001b[0;32mdef\u001b[0m \u001b[0m__get_result\u001b[0m\u001b[0;34m(\u001b[0m\u001b[0mself\u001b[0m\u001b[0;34m)\u001b[0m\u001b[0;34m:\u001b[0m\u001b[0;34m\u001b[0m\u001b[0;34m\u001b[0m\u001b[0m\n\u001b[1;32m    383\u001b[0m         \u001b[0;32mif\u001b[0m \u001b[0mself\u001b[0m\u001b[0;34m.\u001b[0m\u001b[0m_exception\u001b[0m\u001b[0;34m:\u001b[0m\u001b[0;34m\u001b[0m\u001b[0;34m\u001b[0m\u001b[0m\n\u001b[0;32m--> 384\u001b[0;31m             \u001b[0;32mraise\u001b[0m \u001b[0mself\u001b[0m\u001b[0;34m.\u001b[0m\u001b[0m_exception\u001b[0m\u001b[0;34m\u001b[0m\u001b[0;34m\u001b[0m\u001b[0m\n\u001b[0m\u001b[1;32m    385\u001b[0m         \u001b[0;32melse\u001b[0m\u001b[0;34m:\u001b[0m\u001b[0;34m\u001b[0m\u001b[0;34m\u001b[0m\u001b[0m\n\u001b[1;32m    386\u001b[0m             \u001b[0;32mreturn\u001b[0m \u001b[0mself\u001b[0m\u001b[0;34m.\u001b[0m\u001b[0m_result\u001b[0m\u001b[0;34m\u001b[0m\u001b[0;34m\u001b[0m\u001b[0m\n",
      "\u001b[0;31mTerminatedWorkerError\u001b[0m: A worker process managed by the executor was unexpectedly terminated. This could be caused by a segmentation fault while calling the function or by an excessive memory usage causing the Operating System to kill the worker. The exit codes of the workers are {SIGKILL(-9)}"
     ]
    }
   ],
   "source": [
    "result_dir = os.path.join(os.getenv('HOME'), 'test_bwas_adhd')\n",
    "wrapper(model, files, result_dir=result_dir, subject_id=\"Subject\", interest=\"adhd\", ncore=2)"
   ]
  },
  {
   "cell_type": "code",
   "execution_count": null,
   "metadata": {},
   "outputs": [],
   "source": [
    "model\\''"
   ]
  },
  {
   "cell_type": "code",
   "execution_count": null,
   "metadata": {},
   "outputs": [],
   "source": [
    "plotting.view_img('/tmp/tmpx9iwgjyg/mask.nii.gz')"
   ]
  }
 ],
 "metadata": {
  "kernelspec": {
   "display_name": "Python 3",
   "language": "python",
   "name": "python3"
  },
  "language_info": {
   "codemirror_mode": {
    "name": "ipython",
    "version": 3
   },
   "file_extension": ".py",
   "mimetype": "text/x-python",
   "name": "python",
   "nbconvert_exporter": "python",
   "pygments_lexer": "ipython3",
   "version": "3.7.5"
  }
 },
 "nbformat": 4,
 "nbformat_minor": 4
}
