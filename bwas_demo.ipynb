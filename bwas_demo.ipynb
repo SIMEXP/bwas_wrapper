{
 "cells": [
  {
   "cell_type": "code",
   "execution_count": 1,
   "metadata": {},
   "outputs": [],
   "source": [
    "import os \n",
    "import pandas as pd\n",
    "from nilearn import datasets\n",
    "from bwas_wrapper.wrapper import wrapper"
   ]
  },
  {
   "cell_type": "markdown",
   "metadata": {},
   "source": [
    "Let's start by downloading a few subjects from the ADHD200 dataset."
   ]
  },
  {
   "cell_type": "code",
   "execution_count": 2,
   "metadata": {},
   "outputs": [
    {
     "name": "stderr",
     "output_type": "stream",
     "text": [
      "/home/pbellec/env/simonsvip/lib/python3.7/site-packages/nilearn/datasets/func.py:516: VisibleDeprecationWarning: Reading unicode strings without specifying the encoding argument is deprecated. Set the encoding, use None for the system default.\n",
      "  dtype=None)\n"
     ]
    }
   ],
   "source": [
    "n_subjects = 30\n",
    "adhd_dataset = datasets.fetch_adhd(n_subjects)\n",
    "epi_filename = adhd_dataset.func\n",
    "# Also load a probabilistic grey matter segmentation\n",
    "mni = datasets.fetch_icbm152_2009()"
   ]
  },
  {
   "cell_type": "markdown",
   "metadata": {},
   "source": [
    "Let's load the phenotypic information in a pandas DataFrame and check what variables there are:"
   ]
  },
  {
   "cell_type": "code",
   "execution_count": 3,
   "metadata": {},
   "outputs": [
    {
     "data": {
      "text/plain": [
       "Index(['f0', 'Subject', 'RestScan', 'MeanFD', 'NumFD_greater_than_020',\n",
       "       'rootMeanSquareFD', 'FDquartiletop14thFD', 'PercentFD_greater_than_020',\n",
       "       'MeanDVARS', 'MeanFD_Jenkinson', 'site', 'sibling_id', 'data_set',\n",
       "       'age', 'sex', 'handedness', 'full_2_iq', 'full_4_iq', 'viq', 'piq',\n",
       "       'iq_measure', 'tdc', 'adhd', 'adhd_inattentive', 'adhd_combined',\n",
       "       'adhd_subthreshold', 'diagnosis_using_cdis', 'notes', 'sess_1_anat_2',\n",
       "       'oppositional', 'cog_inatt', 'hyperac', 'anxious_shy', 'perfectionism',\n",
       "       'social_problems', 'psychosomatic', 'conn_adhd', 'restless_impulsive',\n",
       "       'emot_lability', 'conn_gi_tot', 'dsm_iv_inatt', 'dsm_iv_h_i',\n",
       "       'dsm_iv_tot', 'study', 'sess_1_rest_1', 'sess_1_rest_1_eyes',\n",
       "       'sess_1_rest_2', 'sess_1_rest_2_eyes', 'sess_1_rest_3',\n",
       "       'sess_1_rest_3_eyes', 'sess_1_rest_4', 'sess_1_rest_4_eyes',\n",
       "       'sess_1_rest_5', 'sess_1_rest_5_eyes', 'sess_1_rest_6',\n",
       "       'sess_1_rest_6_eyes', 'sess_1_anat_1', 'sess_1_which_anat',\n",
       "       'sess_2_rest_1', 'sess_2_rest_1_eyes', 'sess_2_rest_2',\n",
       "       'sess_2_rest_2_eyes', 'sess_2_anat_1', 'defacing_ok', 'defacing_notes'],\n",
       "      dtype='object')"
      ]
     },
     "execution_count": 3,
     "metadata": {},
     "output_type": "execute_result"
    }
   ],
   "source": [
    "data = pd.DataFrame(adhd_dataset.phenotypic)\n",
    "data.columns"
   ]
  },
  {
   "cell_type": "markdown",
   "metadata": {},
   "source": [
    "We need to select the variables to include in our analyis, and also have a column with the subject IDs:"
   ]
  },
  {
   "cell_type": "code",
   "execution_count": 4,
   "metadata": {},
   "outputs": [],
   "source": [
    "model = data[['Subject', 'adhd', 'MeanFD', 'age']]"
   ]
  },
  {
   "cell_type": "markdown",
   "metadata": {},
   "source": [
    "let's add sex as well, but this variable is categorical. We need to convert it into a dummy variable first."
   ]
  },
  {
   "cell_type": "code",
   "execution_count": 5,
   "metadata": {},
   "outputs": [],
   "source": [
    "sex = pd.get_dummies(data['sex'], prefix='sex', drop_first=True) # drop_first is applied because the model will include an intercept\n",
    "model = pd.concat([model, sex], axis=1)"
   ]
  },
  {
   "cell_type": "markdown",
   "metadata": {},
   "source": [
    "we can select subjects too. For example, let's filter subjects with excessive motion."
   ]
  },
  {
   "cell_type": "code",
   "execution_count": 6,
   "metadata": {},
   "outputs": [],
   "source": [
    "model = model[model['MeanFD']<0.1]"
   ]
  },
  {
   "cell_type": "markdown",
   "metadata": {},
   "source": [
    "Let's add an intercept to the regression model:"
   ]
  },
  {
   "cell_type": "code",
   "execution_count": 7,
   "metadata": {},
   "outputs": [],
   "source": [
    "model.insert(0, column='Intercept', value=1)"
   ]
  },
  {
   "cell_type": "markdown",
   "metadata": {},
   "source": [
    "Finally, we need to add a dictionary with the file of the preprocessed data for each subject. The IDs of the subject need to correspond to the subject IDs in the data frame. "
   ]
  },
  {
   "cell_type": "code",
   "execution_count": 8,
   "metadata": {},
   "outputs": [
    {
     "data": {
      "text/plain": [
       "{10042: '/home/pbellec/nilearn_data/adhd/10042_rest_tshift_RPI_voreg_mni.nii.gz',\n",
       " 10064: '/home/pbellec/nilearn_data/adhd/10064_rest_tshift_RPI_voreg_mni.nii.gz',\n",
       " 10128: '/home/pbellec/nilearn_data/adhd/10128_rest_tshift_RPI_voreg_mni.nii.gz',\n",
       " 21019: '/home/pbellec/nilearn_data/adhd/21019_rest_tshift_RPI_voreg_mni.nii.gz',\n",
       " 23008: '/home/pbellec/nilearn_data/adhd/23008_rest_tshift_RPI_voreg_mni.nii.gz',\n",
       " 23012: '/home/pbellec/nilearn_data/adhd/23012_rest_tshift_RPI_voreg_mni.nii.gz',\n",
       " 27018: '/home/pbellec/nilearn_data/adhd/27018_rest_tshift_RPI_voreg_mni.nii.gz',\n",
       " 27034: '/home/pbellec/nilearn_data/adhd/27034_rest_tshift_RPI_voreg_mni.nii.gz',\n",
       " 27037: '/home/pbellec/nilearn_data/adhd/27037_rest_tshift_RPI_voreg_mni.nii.gz',\n",
       " 1019436: '/home/pbellec/nilearn_data/adhd/1019436_rest_tshift_RPI_voreg_mni.nii.gz',\n",
       " 1206380: '/home/pbellec/nilearn_data/adhd/1206380_rest_tshift_RPI_voreg_mni.nii.gz',\n",
       " 1418396: '/home/pbellec/nilearn_data/adhd/1418396_rest_tshift_RPI_voreg_mni.nii.gz',\n",
       " 1517058: '/home/pbellec/nilearn_data/adhd/1517058_rest_tshift_RPI_voreg_mni.nii.gz',\n",
       " 1552181: '/home/pbellec/nilearn_data/adhd/1552181_rest_tshift_RPI_voreg_mni.nii.gz',\n",
       " 1562298: '/home/pbellec/nilearn_data/adhd/1562298_rest_tshift_RPI_voreg_mni.nii.gz',\n",
       " 2014113: '/home/pbellec/nilearn_data/adhd/2014113_rest_tshift_RPI_voreg_mni.nii.gz',\n",
       " 2497695: '/home/pbellec/nilearn_data/adhd/2497695_rest_tshift_RPI_voreg_mni.nii.gz',\n",
       " 2950754: '/home/pbellec/nilearn_data/adhd/2950754_rest_tshift_RPI_voreg_mni.nii.gz',\n",
       " 3007585: '/home/pbellec/nilearn_data/adhd/3007585_rest_tshift_RPI_voreg_mni.nii.gz',\n",
       " 3154996: '/home/pbellec/nilearn_data/adhd/3154996_rest_tshift_RPI_voreg_mni.nii.gz',\n",
       " 3205761: '/home/pbellec/nilearn_data/adhd/3205761_rest_tshift_RPI_voreg_mni.nii.gz',\n",
       " 3520880: '/home/pbellec/nilearn_data/adhd/3520880_rest_tshift_RPI_voreg_mni.nii.gz',\n",
       " 3624598: '/home/pbellec/nilearn_data/adhd/3624598_rest_tshift_RPI_voreg_mni.nii.gz',\n",
       " 3884955: '/home/pbellec/nilearn_data/adhd/3884955_rest_tshift_RPI_voreg_mni.nii.gz',\n",
       " 3902469: '/home/pbellec/nilearn_data/adhd/3902469_rest_tshift_RPI_voreg_mni.nii.gz',\n",
       " 3994098: '/home/pbellec/nilearn_data/adhd/3994098_rest_tshift_RPI_voreg_mni.nii.gz',\n",
       " 4016887: '/home/pbellec/nilearn_data/adhd/4016887_rest_tshift_RPI_voreg_mni.nii.gz'}"
      ]
     },
     "execution_count": 8,
     "metadata": {},
     "output_type": "execute_result"
    }
   ],
   "source": [
    "# By checking `adhd_dataset.func`, we can easily pick up the naming patterns of the functional files\n",
    "# '/home/pbellec/nilearn_data/adhd/data/0010042/0010042_rest_tshift_RPI_voreg_mni.nii.gz'\n",
    "path_data = os.path.join( os.getenv('HOME'), 'nilearn_data', 'adhd')\n",
    "files = {}\n",
    "for subject in model['Subject']:\n",
    "    file = f\"{ subject }_rest_tshift_RPI_voreg_mni.nii.gz\"\n",
    "    files[subject] = os.path.join(path_data, file)\n",
    "files"
   ]
  },
  {
   "cell_type": "code",
   "execution_count": 9,
   "metadata": {},
   "outputs": [
    {
     "name": "stdout",
     "output_type": "stream",
     "text": [
      "Creating sym links in the following path: /tmp/tmpp7zcc2xp\n"
     ]
    },
    {
     "ename": "NameError",
     "evalue": "name 'BWAS_run_full_analysis' is not defined",
     "output_type": "error",
     "traceback": [
      "\u001b[0;31m---------------------------------------------------------------------------\u001b[0m",
      "\u001b[0;31mNameError\u001b[0m                                 Traceback (most recent call last)",
      "\u001b[0;32m<ipython-input-9-e3f6d4f20f5d>\u001b[0m in \u001b[0;36m<module>\u001b[0;34m\u001b[0m\n\u001b[0;32m----> 1\u001b[0;31m \u001b[0mwrapper\u001b[0m\u001b[0;34m(\u001b[0m\u001b[0mmodel\u001b[0m\u001b[0;34m,\u001b[0m \u001b[0mfiles\u001b[0m\u001b[0;34m,\u001b[0m \u001b[0moutput_folder\u001b[0m\u001b[0;34m=\u001b[0m\u001b[0;34m'/tmp/test/'\u001b[0m\u001b[0;34m,\u001b[0m \u001b[0msubject_id\u001b[0m\u001b[0;34m=\u001b[0m\u001b[0;34m\"Subject\"\u001b[0m\u001b[0;34m,\u001b[0m \u001b[0minterest\u001b[0m\u001b[0;34m=\u001b[0m\u001b[0;34m\"adhd\"\u001b[0m\u001b[0;34m)\u001b[0m\u001b[0;34m\u001b[0m\u001b[0;34m\u001b[0m\u001b[0m\n\u001b[0m",
      "\u001b[0;32m~/git/bwas_wrapper/bwas_wrapper/wrapper.py\u001b[0m in \u001b[0;36mwrapper\u001b[0;34m(model, files, output_folder, subject_id, interest)\u001b[0m\n\u001b[1;32m     33\u001b[0m \u001b[0;34m\u001b[0m\u001b[0m\n\u001b[1;32m     34\u001b[0m \u001b[0;34m\u001b[0m\u001b[0m\n\u001b[0;32m---> 35\u001b[0;31m     \u001b[0mBWAS_run_full_analysis\u001b[0m\u001b[0;34m(\u001b[0m\u001b[0mresult_dir\u001b[0m\u001b[0;34m,\u001b[0m\u001b[0mimage_dir\u001b[0m\u001b[0;34m,\u001b[0m\u001b[0mmask_file\u001b[0m\u001b[0;34m,\u001b[0m\u001b[0mtoolbox_path\u001b[0m\u001b[0;34m,\u001b[0m\u001b[0mtargets_file\u001b[0m\u001b[0;34m,\u001b[0m\u001b[0mcov_file\u001b[0m\u001b[0;34m,\u001b[0m\u001b[0mCDT\u001b[0m\u001b[0;34m,\u001b[0m\u001b[0mmemory_limit_per_core\u001b[0m\u001b[0;34m=\u001b[0m\u001b[0;36m16\u001b[0m\u001b[0;34m,\u001b[0m\u001b[0mncore\u001b[0m\u001b[0;34m=\u001b[0m\u001b[0;36m1\u001b[0m\u001b[0;34m)\u001b[0m\u001b[0;34m\u001b[0m\u001b[0;34m\u001b[0m\u001b[0m\n\u001b[0m\u001b[1;32m     36\u001b[0m \u001b[0;34m\u001b[0m\u001b[0m\n\u001b[1;32m     37\u001b[0m     \u001b[0mpath_analysis\u001b[0m\u001b[0;34m.\u001b[0m\u001b[0mcleanup\u001b[0m\u001b[0;34m(\u001b[0m\u001b[0;34m)\u001b[0m\u001b[0;34m\u001b[0m\u001b[0;34m\u001b[0m\u001b[0m\n",
      "\u001b[0;31mNameError\u001b[0m: name 'BWAS_run_full_analysis' is not defined"
     ]
    }
   ],
   "source": [
    "wrapper(model, files, output_folder='/tmp/test/', subject_id=\"Subject\", interest=\"adhd\")"
   ]
  }
 ],
 "metadata": {
  "kernelspec": {
   "display_name": "Python 3",
   "language": "python",
   "name": "python3"
  },
  "language_info": {
   "codemirror_mode": {
    "name": "ipython",
    "version": 3
   },
   "file_extension": ".py",
   "mimetype": "text/x-python",
   "name": "python",
   "nbconvert_exporter": "python",
   "pygments_lexer": "ipython3",
   "version": "3.7.5"
  }
 },
 "nbformat": 4,
 "nbformat_minor": 4
}
